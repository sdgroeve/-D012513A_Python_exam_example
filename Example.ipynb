{
 "cells": [
  {
   "cell_type": "code",
   "execution_count": 2,
   "id": "091354ed",
   "metadata": {},
   "outputs": [],
   "source": [
    "import warnings;\n",
    "warnings.filterwarnings('ignore');\n",
    "\n",
    "import pandas as pd"
   ]
  },
  {
   "cell_type": "markdown",
   "id": "ee6c91c4",
   "metadata": {},
   "source": [
    "For this exam you are asked to complete the Python code between the \n",
    "\n",
    "```\n",
    "#start code here\n",
    "\n",
    "#end code here\n",
    "```\n",
    "\n",
    "comments. A direct question needs to be answered in the text field just below the question. \n",
    "\n",
    "You are allowed to use all the information available on the internet.\n",
    "\n",
    "**question 1 (0pts)**\n",
    "\n",
    "Create an empty Pandas DataFrame called `df`."
   ]
  },
  {
   "cell_type": "code",
   "execution_count": 1,
   "id": "13ce1b31",
   "metadata": {},
   "outputs": [],
   "source": [
    "#start code here\n",
    "\n",
    "#end code here\n",
    "\n",
    "df"
   ]
  }
 ],
 "metadata": {
  "kernelspec": {
   "display_name": "Python 3 (ipykernel)",
   "language": "python",
   "name": "python3"
  },
  "language_info": {
   "codemirror_mode": {
    "name": "ipython",
    "version": 3
   },
   "file_extension": ".py",
   "mimetype": "text/x-python",
   "name": "python",
   "nbconvert_exporter": "python",
   "pygments_lexer": "ipython3",
   "version": "3.9.18"
  }
 },
 "nbformat": 4,
 "nbformat_minor": 5
}
